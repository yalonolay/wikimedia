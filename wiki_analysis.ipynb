{
 "cells": [
  {
   "cell_type": "code",
   "execution_count": 9,
   "metadata": {},
   "outputs": [],
   "source": [
    "from typing import List, Optional\n",
    "\n",
    "import pandas as pd\n",
    "from fastparquet import ParquetFile"
   ]
  },
  {
   "cell_type": "markdown",
   "source": [
    "# Utils"
   ],
   "metadata": {
    "collapsed": false
   }
  },
  {
   "cell_type": "code",
   "execution_count": 4,
   "metadata": {},
   "outputs": [],
   "source": [
    "def filter_contains_any_word(data_list: List[str], words: List[str]) -> Optional[List[str]]:\n",
    "    if (data_list is None) or (words is None):\n",
    "        return None\n",
    "    filtered_data_list = []\n",
    "    for word in words:\n",
    "        for data in data_list:\n",
    "            if word in data:\n",
    "                filtered_data_list.append(data)\n",
    "    filtered_data_list = filtered_data_list if len(filtered_data_list) > 0 else None \n",
    "    return filtered_data_list"
   ]
  },
  {
   "cell_type": "markdown",
   "source": [
    "# Load data"
   ],
   "metadata": {
    "collapsed": false
   }
  },
  {
   "cell_type": "code",
   "execution_count": 12,
   "outputs": [],
   "source": [
    "all_users_df = ParquetFile(\"all_users_edits.parquet\").to_pandas()"
   ],
   "metadata": {
    "collapsed": false
   }
  },
  {
   "cell_type": "code",
   "execution_count": 26,
   "outputs": [],
   "source": [
    "wiki_pages_df = pd.read_csv('wiki_pages.csv')"
   ],
   "metadata": {
    "collapsed": false
   }
  },
  {
   "cell_type": "code",
   "execution_count": 30,
   "outputs": [
    {
     "name": "stdout",
     "output_type": "stream",
     "text": [
      "                   page_name  \\\n",
      "5          \"O\"-Jung.Ban.Hap.   \n",
      "6  \"The Spaghetti Incident?\"   \n",
      "7               \"אבא גוריון\"   \n",
      "8                 \"אינטגרנד\"   \n",
      "9          \"אני רופא, לא...\"   \n",
      "\n",
      "                                            page_url  \\\n",
      "5  https://he.wikipedia.org/wiki/%22O%22-Jung.Ban...   \n",
      "6  https://he.wikipedia.org/wiki/%22The_Spaghetti...   \n",
      "7  https://he.wikipedia.org/wiki/%22%D7%90%D7%91%...   \n",
      "8  https://he.wikipedia.org/wiki/%22%D7%90%D7%99%...   \n",
      "9  https://he.wikipedia.org/wiki/%22%D7%90%D7%A0%...   \n",
      "\n",
      "      last_fetch_page_name_ts  \n",
      "5  2023-09-02 21:23:19.138335  \n",
      "6  2023-09-02 21:23:19.139723  \n",
      "7  2023-09-02 21:23:19.141204  \n",
      "8  2023-09-02 21:23:19.142446  \n",
      "9  2023-09-02 21:23:19.143879  \n"
     ]
    }
   ],
   "source": [
    "print(wiki_pages_df.iloc[5:10])"
   ],
   "metadata": {
    "collapsed": false
   }
  },
  {
   "cell_type": "markdown",
   "source": [
    "# Constants"
   ],
   "metadata": {
    "collapsed": false
   }
  },
  {
   "cell_type": "code",
   "execution_count": 92,
   "metadata": {},
   "outputs": [],
   "source": [
    "kohelet_names = [\"פורום קוהלת\", \"פורום קהלת\"]\n",
    "\n",
    "kohelet_users = [\n",
    "    \"meirneria\", \"sb236\", \"meir neria\", \"אגלי טל\", \"אגלי טל קהלת\", \"פורום קהלת\", \"פ. קהלת\", \"אדם ס.\", \"חדש תחת השמש\", \"סבורני\", \n",
    "    \"שחמ-טאי1\", \"בן קיש\", \"amoshav\", 'ראב\"ד1785', \"פורום קוהלת\", \"סבורני\", \"enoshAn\"\n",
    "                 ]\n",
    "kohelet_suspected_users = [\"armorredknight\"] # page name: {\"ArmorredKnight\": \"ליברליזם\"}"
   ]
  },
  {
   "cell_type": "markdown",
   "source": [
    "# Analysis"
   ],
   "metadata": {
    "collapsed": false
   }
  },
  {
   "cell_type": "code",
   "execution_count": 93,
   "metadata": {},
   "outputs": [
    {
     "name": "stdout",
     "output_type": "stream",
     "text": [
      "Found 906 Kohelet users\n",
      "Number of unique page that kohelet edited: 817\n"
     ]
    }
   ],
   "source": [
    "kohelet_mask_1 = all_users_df['user_name'].apply(lambda user: user.lower() if user else user).isin(kohelet_users)\n",
    "print(f\"Found {kohelet_mask_1.sum()} Kohelet users\")\n",
    "\n",
    "kohelet_df = all_users_df[kohelet_mask_1]\n",
    "\n",
    "print(f\"Number of unique page that kohelet edited: {len(kohelet_df['page_name'].unique())}\")"
   ]
  },
  {
   "cell_type": "code",
   "execution_count": 7,
   "metadata": {},
   "outputs": [],
   "source": [
    "all_users_df['kohelet_talk'] = all_users_df['user_talk'].apply(filter_contains_any_word, words = kohelet_names)"
   ]
  },
  {
   "cell_type": "code",
   "execution_count": 8,
   "metadata": {},
   "outputs": [],
   "source": [
    "kohelet_talk_df = all_users_df.dropna(subset=['kohelet_talk'])"
   ]
  },
  {
   "cell_type": "code",
   "execution_count": 36,
   "metadata": {},
   "outputs": [],
   "source": [
    "not_in_kohelet_users_mask = kohelet_talk_df['user_name'].apply(lambda x: x not in kohelet_users)\n",
    "duplicated_kohelet_talk  = kohelet_talk_df['kohelet_talk'].apply(str).duplicated()\n",
    "suspected_kohelet_df = kohelet_talk_df[not_in_kohelet_users_mask & ~duplicated_kohelet_talk]"
   ]
  },
  {
   "cell_type": "markdown",
   "metadata": {},
   "source": [
    "---"
   ]
  },
  {
   "cell_type": "code",
   "execution_count": null,
   "metadata": {},
   "outputs": [],
   "source": []
  }
 ],
 "metadata": {
  "kernelspec": {
   "display_name": ".venv",
   "language": "python",
   "name": "python3"
  },
  "language_info": {
   "codemirror_mode": {
    "name": "ipython",
    "version": 3
   },
   "file_extension": ".py",
   "mimetype": "text/x-python",
   "name": "python",
   "nbconvert_exporter": "python",
   "pygments_lexer": "ipython3",
   "version": "3.9.4"
  },
  "orig_nbformat": 4
 },
 "nbformat": 4,
 "nbformat_minor": 2
}
